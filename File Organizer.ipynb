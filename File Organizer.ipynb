{
 "cells": [
  {
   "cell_type": "code",
   "execution_count": null,
   "metadata": {},
   "outputs": [],
   "source": [
    "def fileorganizer(path)\n",
    "   \n",
    "    extensions = []\n",
    "\n",
    "    for i in files:\n",
    "\n",
    "        x = os.path.join(path,os.path.splitext(i)[1][1:])\n",
    "\n",
    "        if x not in extensions:\n",
    "            extensions.append(x)\n",
    "    #print(extensions)\n",
    "\n",
    "    for folder in extensions:\n",
    "            try:\n",
    "                os.mkdir(folder)\n",
    "            except:\n",
    "                pass\n",
    "            # before this all code is to create folders\n",
    "\n",
    "            for file in files:\n",
    "                if (os.path.split(folder)[1]==os.path.splitext(file)[1][1:]):\n",
    "                    os.rename(os.path.join(path,file),  os.path.join(folder,file))\n",
    "         \n",
    "#calling the function\n",
    "mypath = \"your path\" # change your file path\n",
    "fileorganizer(mypath)"
   ]
  }
 ],
 "metadata": {
  "kernelspec": {
   "display_name": "Python 3",
   "language": "python",
   "name": "python3"
  },
  "language_info": {
   "codemirror_mode": {
    "name": "ipython",
    "version": 3
   },
   "file_extension": ".py",
   "mimetype": "text/x-python",
   "name": "python",
   "nbconvert_exporter": "python",
   "pygments_lexer": "ipython3",
   "version": "3.7.4"
  }
 },
 "nbformat": 4,
 "nbformat_minor": 2
}
