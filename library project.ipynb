{
 "cells": [
  {
   "cell_type": "code",
   "execution_count": null,
   "metadata": {},
   "outputs": [],
   "source": [
    "class library:\n",
    "    def __init__(self,books):\n",
    "        self.books = books\n",
    "    \n",
    "    def list_books(self):\n",
    "        print(\"Available Books\")\n",
    "        for  book in self.books:\n",
    "            print(book)\n",
    "            \n",
    "    def borrow_book(self,borrow_book):\n",
    "        if borrow_book in self.books:\n",
    "            print(\"Get your book now\")\n",
    "            self.books.remove(borrow_book)\n",
    "        else:\n",
    "            print(\"book not available\")\n",
    "            \n",
    "    def receive_book(self,receive_book):\n",
    "        print('You have the returned the book')\n",
    "        self.books.append(receive_book)\n",
    "        \n",
    "books = ['python','artificial intelligence','c','c++','java']\n",
    "\n",
    "a = library(books)\n",
    "\n",
    "\n",
    "MSG = \"\"\"\n",
    "        1.Display book\n",
    "        2.Borrow book\n",
    "        3.Return book\n",
    "        \n",
    "        \"\"\"\n",
    "while True:\n",
    "    print(MSG)\n",
    "    ch = int(input('enter the choice : '))\n",
    "    if ch == 1:\n",
    "        a.list_books()\n",
    "        \n",
    "    elif ch == 2:\n",
    "        book = input('enter the book name : ')\n",
    "        a.borrow_book(book)\n",
    "        \n",
    "    elif ch == 3:\n",
    "        book = input('enter the book name for return : ')\n",
    "        a.receive_book(book)\n",
    "    \n",
    "    else:\n",
    "        print('thank You come again')\n",
    "        quit()"
   ]
  },
  {
   "cell_type": "code",
   "execution_count": null,
   "metadata": {},
   "outputs": [],
   "source": []
  }
 ],
 "metadata": {
  "kernelspec": {
   "display_name": "Python 3",
   "language": "python",
   "name": "python3"
  },
  "language_info": {
   "codemirror_mode": {
    "name": "ipython",
    "version": 3
   },
   "file_extension": ".py",
   "mimetype": "text/x-python",
   "name": "python",
   "nbconvert_exporter": "python",
   "pygments_lexer": "ipython3",
   "version": "3.7.4"
  }
 },
 "nbformat": 4,
 "nbformat_minor": 2
}
